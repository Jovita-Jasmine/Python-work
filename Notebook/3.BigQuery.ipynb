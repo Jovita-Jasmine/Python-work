{
 "cells": [
  {
   "cell_type": "code",
   "execution_count": 46,
   "metadata": {},
   "outputs": [],
   "source": [
    "from google.cloud import bigquery\n",
    "from google.cloud.bigquery import Dataset\n",
    "from google.cloud import storage\n",
    "import pandas as pd\n",
    "import matplotlib.pyplot as plt\n",
    "import numpy as np\n",
    "import math\n",
    "from scipy import stats\n",
    "\n",
    "import seaborn as sns\n",
    "sns.set(rc={'figure.figsize': (10, 5)})\n",
    "\n",
    "pd.set_option(\"display.max_rows\", 120)\n",
    "pd.set_option(\"display.max_columns\", 120)\n",
    "\n",
    "%matplotlib inline"
   ]
  },
  {
   "cell_type": "code",
   "execution_count": 47,
   "metadata": {},
   "outputs": [],
   "source": [
    "key_path ='C:/Users/Jewin/Desktop/Jovita-DataSciene/Module 2/Labs 2/jovita-0406-00dedb5d97e8.json'\n",
    "storage_client = storage.Client.from_service_account_json(key_path)"
   ]
  },
  {
   "cell_type": "code",
   "execution_count": 48,
   "metadata": {},
   "outputs": [],
   "source": [
    "client = bigquery.Client.from_service_account_json(key_path)"
   ]
  },
  {
   "cell_type": "code",
   "execution_count": 49,
   "metadata": {},
   "outputs": [
    {
     "data": {
      "text/plain": [
       "'/projects/bigquery-public-data/datasets/fda_food'"
      ]
     },
     "execution_count": 49,
     "metadata": {},
     "output_type": "execute_result"
    }
   ],
   "source": [
    "# Choosing the data set 'fda_food'\n",
    "dataset_id = 'fda_food'\n",
    "dataset_ref = client.dataset(dataset_id, project = 'bigquery-public-data')\n",
    "dataset_ref.path"
   ]
  },
  {
   "cell_type": "code",
   "execution_count": 50,
   "metadata": {},
   "outputs": [],
   "source": [
    "# Choosing the table 'food_enforcement'\n",
    "table_id = 'food_enforcement'\n",
    "table_ref = dataset_ref.table(table_id)\n",
    "table = client.get_table(table_ref)"
   ]
  },
  {
   "cell_type": "code",
   "execution_count": 51,
   "metadata": {},
   "outputs": [],
   "source": [
    "\n",
    "client = bigquery.Client.from_service_account_json(key_path, project = 'jovita-0406') #<<< your BigQuery project ID here!\n"
   ]
  },
  {
   "cell_type": "code",
   "execution_count": 52,
   "metadata": {},
   "outputs": [],
   "source": [
    "# Extracting 5000 rows of required columns as sample data for analysis\n",
    "sql = \"SELECT classification,report_date,termination_date,recall_initiation_date,status FROM `bigquery-public-data.fda_food.food_enforcement` LIMIT 1000\"\n",
    "query_job = client.query(sql)\n",
    "df = query_job.to_dataframe()\n"
   ]
  },
  {
   "cell_type": "code",
   "execution_count": 53,
   "metadata": {},
   "outputs": [
    {
     "data": {
      "text/plain": [
       "(1000, 5)"
      ]
     },
     "execution_count": 53,
     "metadata": {},
     "output_type": "execute_result"
    }
   ],
   "source": [
    "#Checking if all rows are loaded\n",
    "df.shape"
   ]
  },
  {
   "cell_type": "code",
   "execution_count": 54,
   "metadata": {},
   "outputs": [
    {
     "data": {
      "text/html": [
       "<div>\n",
       "<style scoped>\n",
       "    .dataframe tbody tr th:only-of-type {\n",
       "        vertical-align: middle;\n",
       "    }\n",
       "\n",
       "    .dataframe tbody tr th {\n",
       "        vertical-align: top;\n",
       "    }\n",
       "\n",
       "    .dataframe thead th {\n",
       "        text-align: right;\n",
       "    }\n",
       "</style>\n",
       "<table border=\"1\" class=\"dataframe\">\n",
       "  <thead>\n",
       "    <tr style=\"text-align: right;\">\n",
       "      <th></th>\n",
       "      <th>classification</th>\n",
       "      <th>report_date</th>\n",
       "      <th>termination_date</th>\n",
       "      <th>recall_initiation_date</th>\n",
       "      <th>status</th>\n",
       "    </tr>\n",
       "  </thead>\n",
       "  <tbody>\n",
       "    <tr>\n",
       "      <th>0</th>\n",
       "      <td>Class I</td>\n",
       "      <td>2012-10-03</td>\n",
       "      <td>2013-01-14</td>\n",
       "      <td>2012-09-07</td>\n",
       "      <td>Terminated</td>\n",
       "    </tr>\n",
       "    <tr>\n",
       "      <th>1</th>\n",
       "      <td>Class II</td>\n",
       "      <td>2012-10-03</td>\n",
       "      <td>2014-08-11</td>\n",
       "      <td>2011-11-15</td>\n",
       "      <td>Terminated</td>\n",
       "    </tr>\n",
       "    <tr>\n",
       "      <th>2</th>\n",
       "      <td>Class II</td>\n",
       "      <td>2012-10-03</td>\n",
       "      <td>2014-08-11</td>\n",
       "      <td>2011-11-15</td>\n",
       "      <td>Terminated</td>\n",
       "    </tr>\n",
       "    <tr>\n",
       "      <th>3</th>\n",
       "      <td>Class II</td>\n",
       "      <td>2012-10-03</td>\n",
       "      <td>2014-08-11</td>\n",
       "      <td>2011-11-15</td>\n",
       "      <td>Terminated</td>\n",
       "    </tr>\n",
       "    <tr>\n",
       "      <th>4</th>\n",
       "      <td>Class II</td>\n",
       "      <td>2012-10-03</td>\n",
       "      <td>2014-08-11</td>\n",
       "      <td>2011-11-15</td>\n",
       "      <td>Terminated</td>\n",
       "    </tr>\n",
       "  </tbody>\n",
       "</table>\n",
       "</div>"
      ],
      "text/plain": [
       "  classification report_date termination_date recall_initiation_date  \\\n",
       "0        Class I  2012-10-03       2013-01-14             2012-09-07   \n",
       "1       Class II  2012-10-03       2014-08-11             2011-11-15   \n",
       "2       Class II  2012-10-03       2014-08-11             2011-11-15   \n",
       "3       Class II  2012-10-03       2014-08-11             2011-11-15   \n",
       "4       Class II  2012-10-03       2014-08-11             2011-11-15   \n",
       "\n",
       "       status  \n",
       "0  Terminated  \n",
       "1  Terminated  \n",
       "2  Terminated  \n",
       "3  Terminated  \n",
       "4  Terminated  "
      ]
     },
     "execution_count": 54,
     "metadata": {},
     "output_type": "execute_result"
    }
   ],
   "source": [
    "df.head()"
   ]
  },
  {
   "cell_type": "code",
   "execution_count": 55,
   "metadata": {},
   "outputs": [
    {
     "data": {
      "text/html": [
       "<div>\n",
       "<style scoped>\n",
       "    .dataframe tbody tr th:only-of-type {\n",
       "        vertical-align: middle;\n",
       "    }\n",
       "\n",
       "    .dataframe tbody tr th {\n",
       "        vertical-align: top;\n",
       "    }\n",
       "\n",
       "    .dataframe thead th {\n",
       "        text-align: right;\n",
       "    }\n",
       "</style>\n",
       "<table border=\"1\" class=\"dataframe\">\n",
       "  <thead>\n",
       "    <tr style=\"text-align: right;\">\n",
       "      <th></th>\n",
       "      <th>classification</th>\n",
       "      <th>report_date</th>\n",
       "      <th>termination_date</th>\n",
       "      <th>recall_initiation_date</th>\n",
       "      <th>status</th>\n",
       "    </tr>\n",
       "  </thead>\n",
       "  <tbody>\n",
       "    <tr>\n",
       "      <th>995</th>\n",
       "      <td>Class I</td>\n",
       "      <td>2017-09-13</td>\n",
       "      <td>2017-10-13</td>\n",
       "      <td>2016-12-20</td>\n",
       "      <td>Terminated</td>\n",
       "    </tr>\n",
       "    <tr>\n",
       "      <th>996</th>\n",
       "      <td>Class I</td>\n",
       "      <td>2017-09-13</td>\n",
       "      <td>2017-10-13</td>\n",
       "      <td>2016-12-20</td>\n",
       "      <td>Terminated</td>\n",
       "    </tr>\n",
       "    <tr>\n",
       "      <th>997</th>\n",
       "      <td>Class I</td>\n",
       "      <td>2017-09-13</td>\n",
       "      <td>2017-10-13</td>\n",
       "      <td>2016-12-20</td>\n",
       "      <td>Terminated</td>\n",
       "    </tr>\n",
       "    <tr>\n",
       "      <th>998</th>\n",
       "      <td>Class I</td>\n",
       "      <td>2017-09-13</td>\n",
       "      <td>2017-10-13</td>\n",
       "      <td>2016-12-20</td>\n",
       "      <td>Terminated</td>\n",
       "    </tr>\n",
       "    <tr>\n",
       "      <th>999</th>\n",
       "      <td>Class I</td>\n",
       "      <td>2017-09-13</td>\n",
       "      <td>2017-10-13</td>\n",
       "      <td>2016-12-20</td>\n",
       "      <td>Terminated</td>\n",
       "    </tr>\n",
       "  </tbody>\n",
       "</table>\n",
       "</div>"
      ],
      "text/plain": [
       "    classification report_date termination_date recall_initiation_date  \\\n",
       "995        Class I  2017-09-13       2017-10-13             2016-12-20   \n",
       "996        Class I  2017-09-13       2017-10-13             2016-12-20   \n",
       "997        Class I  2017-09-13       2017-10-13             2016-12-20   \n",
       "998        Class I  2017-09-13       2017-10-13             2016-12-20   \n",
       "999        Class I  2017-09-13       2017-10-13             2016-12-20   \n",
       "\n",
       "         status  \n",
       "995  Terminated  \n",
       "996  Terminated  \n",
       "997  Terminated  \n",
       "998  Terminated  \n",
       "999  Terminated  "
      ]
     },
     "execution_count": 55,
     "metadata": {},
     "output_type": "execute_result"
    }
   ],
   "source": [
    "df.tail()"
   ]
  },
  {
   "cell_type": "code",
   "execution_count": 56,
   "metadata": {},
   "outputs": [
    {
     "name": "stdout",
     "output_type": "stream",
     "text": [
      "<class 'pandas.core.frame.DataFrame'>\n",
      "RangeIndex: 1000 entries, 0 to 999\n",
      "Data columns (total 5 columns):\n",
      "classification            1000 non-null object\n",
      "report_date               1000 non-null object\n",
      "termination_date          903 non-null object\n",
      "recall_initiation_date    1000 non-null object\n",
      "status                    1000 non-null object\n",
      "dtypes: object(5)\n",
      "memory usage: 39.2+ KB\n"
     ]
    }
   ],
   "source": [
    "df.info()"
   ]
  },
  {
   "cell_type": "code",
   "execution_count": 57,
   "metadata": {},
   "outputs": [],
   "source": [
    "#Changing the datatypes from Object to Datetime format\n",
    "df['report_date']= pd.to_datetime(df['report_date'],errors = 'coerce') \n",
    "df['recall_initiation_date']= pd.to_datetime(df['recall_initiation_date'],errors = 'coerce')  \n",
    "df['termination_date']= pd.to_datetime(df['termination_date'],errors = 'coerce') "
   ]
  },
  {
   "cell_type": "code",
   "execution_count": 58,
   "metadata": {},
   "outputs": [
    {
     "data": {
      "text/plain": [
       "array(['Terminated', 'Ongoing', 'Completed'], dtype=object)"
      ]
     },
     "execution_count": 58,
     "metadata": {},
     "output_type": "execute_result"
    }
   ],
   "source": [
    "#Checking the distinct values in status field\n",
    "df['status'].unique()"
   ]
  },
  {
   "cell_type": "code",
   "execution_count": 59,
   "metadata": {},
   "outputs": [],
   "source": [
    "# For our analysis we are not considering 'Ongoing' cases.\n",
    "filter =df[df['status']=='Ongoing'].index\n",
    "df.drop(filter,inplace=True)"
   ]
  },
  {
   "cell_type": "code",
   "execution_count": 60,
   "metadata": {},
   "outputs": [
    {
     "data": {
      "text/plain": [
       "classification            0\n",
       "report_date               0\n",
       "termination_date          6\n",
       "recall_initiation_date    0\n",
       "status                    0\n",
       "dtype: int64"
      ]
     },
     "execution_count": 60,
     "metadata": {},
     "output_type": "execute_result"
    }
   ],
   "source": [
    "df.isnull().sum()"
   ]
  },
  {
   "cell_type": "code",
   "execution_count": 61,
   "metadata": {},
   "outputs": [
    {
     "name": "stdout",
     "output_type": "stream",
     "text": [
      "The rows with Status as Completed will not have Termination Date\n"
     ]
    }
   ],
   "source": [
    "#Checking if the value termination_date column is correct.\n",
    "#If we consider that termination date is only available for rows with status as 'Terminated' , \n",
    "#the number of rows with status as 'Completed' should be equal to \n",
    "#number of rows with status as 'Completed' and 'termination_date' is null\n",
    "if (max(df[(df['status'] == 'Completed') & (df['termination_date'].isnull())].count()) == max(df[(df['status'] == 'Completed')].count())):\n",
    "    print('The rows with Status as ''Completed'' will not have ''Termination Date''' )\n",
    "else:\n",
    "    print('The rows with Status as ''Completed'' might have ''Termination Date''' )\n"
   ]
  },
  {
   "cell_type": "code",
   "execution_count": 62,
   "metadata": {},
   "outputs": [
    {
     "data": {
      "text/plain": [
       "classification            2\n",
       "report_date               2\n",
       "termination_date          0\n",
       "recall_initiation_date    2\n",
       "status                    2\n",
       "dtype: int64"
      ]
     },
     "execution_count": 62,
     "metadata": {},
     "output_type": "execute_result"
    }
   ],
   "source": [
    "#Re Checking the rows that have been 'Terminated' but 'Termination Date is not been populated'\n",
    "#We could either drop these rows as its only 11 records for a sample size of 5000 \n",
    "df[(df['status'] == 'Terminated') & (df['termination_date'].isnull())].count()"
   ]
  },
  {
   "cell_type": "code",
   "execution_count": 63,
   "metadata": {},
   "outputs": [],
   "source": [
    "#Dropping the rows with status as 'Terminated' without the termination date\n",
    "df=df.drop(df[(df['status'] == 'Terminated') & (df['termination_date'].isnull())].index)"
   ]
  },
  {
   "cell_type": "code",
   "execution_count": 64,
   "metadata": {},
   "outputs": [
    {
     "name": "stdout",
     "output_type": "stream",
     "text": [
      "<class 'pandas.core.frame.DataFrame'>\n",
      "Int64Index: 907 entries, 0 to 999\n",
      "Data columns (total 5 columns):\n",
      "classification            907 non-null object\n",
      "report_date               907 non-null datetime64[ns]\n",
      "termination_date          903 non-null datetime64[ns]\n",
      "recall_initiation_date    907 non-null datetime64[ns]\n",
      "status                    907 non-null object\n",
      "dtypes: datetime64[ns](3), object(2)\n",
      "memory usage: 42.5+ KB\n"
     ]
    }
   ],
   "source": [
    "df.info()"
   ]
  },
  {
   "cell_type": "code",
   "execution_count": 65,
   "metadata": {},
   "outputs": [],
   "source": [
    "#Creating a column to get time taken for reporting the food product after recalling it.\n",
    "df['Recall_Time_Taken']=df['report_date']-df['recall_initiation_date']\n",
    "\n",
    "#Creating a Column to get time taken for terminating a product after reporting an issue with it.\n",
    "df['Terminate_Time_Taken']=df['termination_date']-df['report_date']"
   ]
  },
  {
   "cell_type": "code",
   "execution_count": 66,
   "metadata": {},
   "outputs": [],
   "source": [
    "def bar_charts(df, feature):\n",
    "    '''\n",
    "    Inputs:\n",
    "    df: Dataset\n",
    "    feature: Name of Feature to Check With Classification\n",
    "    '''\n",
    "    _agg = {\n",
    "        'classification': 'count'\n",
    "    }\n",
    "    _groupby = ['classification', feature]\n",
    "\n",
    "    df_feature = df.groupby(by=_groupby).agg(_agg)\n",
    "   \n",
    "    \n",
    "    ax = df_feature.unstack().plot(kind='bar', figsize=(10,6))\n",
    "    plt.legend(list(df_feature.index.levels[1].unique()))\n",
    "    plt.xlabel('classification')\n",
    "    plt.xticks(np.arange(3), ('Class I', 'Class II','Class III'))\n",
    "    plt.show();"
   ]
  },
  {
   "cell_type": "code",
   "execution_count": 67,
   "metadata": {
    "scrolled": true
   },
   "outputs": [
    {
     "data": {
      "image/png": "[encoded data removed]",
      "text/plain": [
       "<Figure size 720x432 with 1 Axes>"
      ]
     },
     "metadata": {
      "needs_background": "light"
     },
     "output_type": "display_data"
    }
   ],
   "source": [
    "# Checking if Status depend on classification.\n",
    "#Eg: Checking if all the food items falling under Class 1 degree of hazardness are terminated\n",
    "#da=df[df['status'] == 'Terminated']\n",
    "bar_charts(df,'status')\n",
    "\n",
    "#From the below graph we could say that all food items with highest degree of hazardness are not terminated.\n"
   ]
  },
  {
   "cell_type": "code",
   "execution_count": 68,
   "metadata": {},
   "outputs": [],
   "source": [
    "# Create Time Group for the time taken to report  an recalled food item\n",
    "#Any time taken for more than 4 years is considered as 5 \n",
    "\n",
    "def Recall_time_group(x):\n",
    "    if x <= pd.Timedelta(365,'D'):\n",
    "        Recall_Time = 1\n",
    "    elif x > pd.Timedelta(365,'D') and x <= pd.Timedelta(730,'D'):\n",
    "        Recall_Time = 2\n",
    "    elif x > pd.Timedelta(730,'D') and x <= pd.Timedelta(1095,'D'):\n",
    "        Recall_Time = 3\n",
    "    elif x > pd.Timedelta(1095,'D') and x <= pd.Timedelta(1460,'D'):\n",
    "        Recall_Time = 4\n",
    "    else:\n",
    "        Recall_Time = 5\n",
    "    return Recall_Time\n",
    "    "
   ]
  },
  {
   "cell_type": "code",
   "execution_count": 69,
   "metadata": {},
   "outputs": [],
   "source": [
    "df['Recall_Time'] = df['Recall_Time_Taken'].apply(Recall_time_group)"
   ]
  },
  {
   "cell_type": "code",
   "execution_count": 70,
   "metadata": {},
   "outputs": [
    {
     "data": {
      "image/png": "[encoded data removed]",
      "text/plain": [
       "<Figure size 720x432 with 1 Axes>"
      ]
     },
     "metadata": {
      "needs_background": "light"
     },
     "output_type": "display_data"
    }
   ],
   "source": [
    "#Checking if the time taken for reporting a food item with issue depends on the class\n",
    "bar_charts(df,'Recall_Time')\n",
    "#From the graph below it shows that most of the food items are reported in a year \n",
    "#Also there are food items with issues classified as class 1 , but have still taken more than 4 years to report after recalling"
   ]
  },
  {
   "cell_type": "code",
   "execution_count": 71,
   "metadata": {},
   "outputs": [
    {
     "data": {
      "image/png": "[encoded data removed]",
      "text/plain": [
       "<Figure size 720x432 with 1 Axes>"
      ]
     },
     "metadata": {
      "needs_background": "light"
     },
     "output_type": "display_data"
    }
   ],
   "source": [
    "# Are the Class 1 items terminated soner compared to other classes.\n",
    "df['Terminate_Time'] = df['Terminate_Time_Taken'].apply(Recall_time_group)\n",
    "bar_charts(df,'Terminate_Time')\n",
    "\n",
    "#Below graph depicts that the time taken for termination doesnt depend on the class\n",
    "#But most of the items are terminated within an year"
   ]
  },
  {
   "cell_type": "code",
   "execution_count": 72,
   "metadata": {},
   "outputs": [],
   "source": [
    "H0= 'Class 1 food items are given priority for termination while compared to other classes.'\n",
    "H1= 'Class 1 food items are not given priority for termination while compared to other classes.'\n",
    "da=df[df['status'] == 'Terminated']\n",
    "alpha = 0.05\n",
    "N = 200\n",
    "Class1_Food = da[da['classification'] =='Class I']['Terminate_Time_Taken'].sample(N)\n",
    "Other_Food = da[da['classification'] != 'Class I']['Terminate_Time_Taken'].sample(N)\n"
   ]
  },
  {
   "cell_type": "code",
   "execution_count": 73,
   "metadata": {},
   "outputs": [],
   "source": [
    "#ax = sns.distplot(Class1_Food, label='Class 1 Hazard level', kde=False);\n",
    "#sns.distplot(Class1_Food, ax=ax, label='Other Hazard Levels', kde=False);\n",
    "#sns.distplot(Class1_Food, hist=True, color='blue');\n",
    "#plt.hist(Class1_Food)\n"
   ]
  },
  {
   "cell_type": "code",
   "execution_count": 91,
   "metadata": {},
   "outputs": [
    {
     "name": "stdout",
     "output_type": "stream",
     "text": [
      "Class1_Food Variance: 86906.44922110556\n",
      "Other_Food Variance: 122627.83919597972\n",
      "std dev: 323.67753120743896\n",
      "t: 2.3898785841401087\n",
      "p = 0.017318418221250464\n",
      "We reject our null hypothesis.\n",
      "\n",
      "Class 1 food items are not given priority for termination while compared to other classes.\n"
     ]
    }
   ],
   "source": [
    "var_Class1_Food = Class1_Food.dt.days.var()\n",
    "print('Class1_Food Variance:',var_Class1_Food)\n",
    "var_Other_Food = Other_Food.dt.days.var()\n",
    "print('Other_Food Variance:',var_Other_Food)\n",
    "np.var(Class1_Food, ddof=1)\n",
    "std = np.sqrt((var_Class1_Food + var_Other_Food) / 2)\n",
    "print('std dev:', std)\n",
    "t = (Other_Food.dt.days.mean() - Class1_Food.dt.days.mean()) / (std * np.sqrt(2 / N))  # t-statistic\n",
    "print('t:', t)\n",
    "degf = 2 * N - 2\n",
    "p = 1 - stats.t.cdf(abs(t), df=degf)  # #p-value after comparison with the t \n",
    "p_val=2*p\n",
    "print(\"p = \" + str(2 * p))\n",
    "if p_val < alpha:\n",
    "        print(\"We reject our null hypothesis.\\n\")\n",
    "        print(H1)\n",
    "elif p_val > alpha:\n",
    "        print(\"We fail to reject our null hypothesis.\\n\")\n",
    "        print(H0)\n",
    "else:\n",
    "        print(\"Our test is inconclusive.\")"
   ]
  }
 ],
 "metadata": {
  "kernelspec": {
   "display_name": "Python 3",
   "language": "python",
   "name": "python3"
  },
  "language_info": {
   "codemirror_mode": {
    "name": "ipython",
    "version": 3
   },
   "file_extension": ".py",
   "mimetype": "text/x-python",
   "name": "python",
   "nbconvert_exporter": "python",
   "pygments_lexer": "ipython3",
   "version": "3.7.4"
  }
 },
 "nbformat": 4,
 "nbformat_minor": 2
}
